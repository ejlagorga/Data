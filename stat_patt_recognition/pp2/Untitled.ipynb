{
 "cells": [
  {
   "cell_type": "code",
   "execution_count": 34,
   "metadata": {},
   "outputs": [],
   "source": [
    "import csv\n",
    "import numpy as np\n",
    "import matplotlib.pyplot as plt\n",
    "from pylab import *"
   ]
  },
  {
   "cell_type": "code",
   "execution_count": 35,
   "metadata": {},
   "outputs": [],
   "source": [
    "# Converts csv file into np matrix\n",
    "def csvToMatrix(fname):\n",
    "    with open(fname, 'r') as f:\n",
    "        data = list(csv.reader(f))\n",
    "    return np.array(data).astype(float)"
   ]
  },
  {
   "cell_type": "code",
   "execution_count": 36,
   "metadata": {},
   "outputs": [],
   "source": [
    "class TrainingData:\n",
    "\n",
    "    def __init__(self, train, trainR):\n",
    "        self.train   = csvToMatrix(train)\n",
    "        self.trainR  = csvToMatrix(trainR)\n",
    "        self.weights = self.pseudoInv(150) \n",
    "\n",
    "    def pseudoInv(self, x):\n",
    "        innerProduct = np.matmul(self.train.T, self.train)\n",
    "        mvProduct    = np.matmul(self.train.T, self.trainR)\n",
    "        pseudoInv = []\n",
    "        for y in range(0, x):\n",
    "            x = y * np.eye(self.train.shape[1]) + innerProduct\n",
    "            pseudoInv.append(np.matmul(np.linalg.inv(x), mvProduct))\n",
    "        return pseudoInv\n",
    "\n",
    "    def calc_mse(self, data, dataR):\n",
    "        data = csvToMatrix(data)\n",
    "        dataR = csvToMatrix(dataR)\n",
    "        mse = []\n",
    "        for w in self.weights:\n",
    "            sum_sq = 0\n",
    "            for i in range(0, len(data)):\n",
    "                sum_sq += (float) (np.matmul(data[i], w) - dataR[i])**2\n",
    "            mse.append(sum_sq/len(data))\n",
    "        return mse"
   ]
  },
  {
   "cell_type": "code",
   "execution_count": 37,
   "metadata": {},
   "outputs": [],
   "source": [
    "data = []\n",
    "\n",
    "td = TrainingData('data/train-1000-100.csv','data/trainR-1000-100.csv')\n",
    "data.append(\n",
    "  [td.calc_mse('data/test-1000-100.csv','data/testR-1000-100.csv'),\n",
    "   td.calc_mse('data/train-1000-100.csv','data/trainR-1000-100.csv')])\n",
    "\n",
    "td = TrainingData('data/train-100-100.csv', 'data/trainR-100-100.csv')\n",
    "data.append(\n",
    "  [td.calc_mse('data/test-100-100.csv','data/testR-100-100.csv'),\n",
    "   td.calc_mse('data/train-100-100.csv','data/trainR-100-100.csv')])\n",
    "\n",
    "td = TrainingData('data/train-100-10.csv', 'data/trainR-100-10.csv')\n",
    "data.append(\n",
    "  [td.calc_mse('data/test-100-10.csv','data/testR-100-10.csv'),\n",
    "   td.calc_mse('data/train-100-10.csv','data/trainR-100-10.csv')])\n",
    "\n",
    "td = TrainingData('data/train-crime.csv', 'data/trainR-crime.csv')\n",
    "data.append(\n",
    "  [td.calc_mse('data/test-crime.csv','data/testR-crime.csv'),\n",
    "   td.calc_mse('data/train-crime.csv','data/trainR-crime.csv')])\n",
    "\n",
    "td = TrainingData('data/train-wine.csv', 'data/trainR-wine.csv')\n",
    "data.append(\n",
    "  [td.calc_mse('data/test-wine.csv','data/testR-wine.csv'),\n",
    "   td.calc_mse('data/train-wine.csv','data/trainR-wine.csv')])"
   ]
  },
  {
   "cell_type": "code",
   "execution_count": 59,
   "metadata": {
    "scrolled": false
   },
   "outputs": [
    {
     "data": {
      "image/png": "[encoded data removed]",
      "text/plain": [
       "<matplotlib.figure.Figure at 0x7fd4a64d8780>"
      ]
     },
     "metadata": {},
     "output_type": "display_data"
    }
   ],
   "source": [
    "td = TrainingData('data/train-1000-100.csv','data/trainR-1000-100.csv')\n",
    "fig, axes = plt.subplots(nrows=1, ncols=2)\n",
    "axes[0].plot(td.calc_mse('data/test-1000-100.csv','data/testR-1000-100.csv'))\n",
    "axes[1].plot(td.calc_mse('data/train-1000-100.csv','data/trainR-1000-100.csv'))\n",
    "show()\n"
   ]
  },
  {
   "cell_type": "code",
   "execution_count": null,
   "metadata": {},
   "outputs": [],
   "source": []
  }
 ],
 "metadata": {
  "kernelspec": {
   "display_name": "Python 3",
   "language": "python",
   "name": "python3"
  },
  "language_info": {
   "codemirror_mode": {
    "name": "ipython",
    "version": 3
   },
   "file_extension": ".py",
   "mimetype": "text/x-python",
   "name": "python",
   "nbconvert_exporter": "python",
   "pygments_lexer": "ipython3",
   "version": "3.5.2"
  }
 },
 "nbformat": 4,
 "nbformat_minor": 2
}
